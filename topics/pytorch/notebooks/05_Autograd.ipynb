{
 "cells": [
  {
   "metadata": {},
   "cell_type": "markdown",
   "source": [
    "## 自动计算梯度\n",
    "支持对任何计算图进行梯度的自动计算"
   ],
   "id": "8cc8bdb456be8786"
  },
  {
   "metadata": {
    "collapsed": true,
    "ExecuteTime": {
     "end_time": "2025-02-23T14:30:52.780325Z",
     "start_time": "2025-02-23T14:30:52.774809Z"
    }
   },
   "cell_type": "code",
   "source": [
    "import torch\n",
    "\n",
    "x = torch.ones(5)  # input tensor\n",
    "y = torch.zeros(3)  # expected output\n",
    "w = torch.randn(5, 3, requires_grad=True)\n",
    "b = torch.randn(3, requires_grad=True)\n",
    "z = torch.matmul(x, w)+b\n",
    "loss = torch.nn.functional.binary_cross_entropy_with_logits(z, y)"
   ],
   "id": "initial_id",
   "outputs": [],
   "execution_count": 5
  },
  {
   "metadata": {},
   "cell_type": "markdown",
   "source": "<img src =\"img/05_Autograd/01.png\"  width=\"700\" height=\"240\">\n",
   "id": "b53fd63f5e2cab56"
  },
  {
   "metadata": {},
   "cell_type": "markdown",
   "source": [
    "### 计算梯度\n",
    "即计算损失函数相对参数的导数"
   ],
   "id": "3b0f8dca53a2dd6c"
  },
  {
   "metadata": {},
   "cell_type": "markdown",
   "source": [
    "为了优化神经网络中参数的权重，我们需要计算损失函数相对于参数的导数，即，我们需要\n",
    "$\\frac{∂loss}{∂w}和\\frac{∂loss}{∂b}$\n",
    "在 x 和 y 的某些固定值下。为了计算这些导数，我们调用 `loss.backward()`，然后从 `w.grad` 和 `b.grad` 中检索值\n",
    "\n",
    "\n"
   ],
   "id": "ea8128e7dec09146"
  },
  {
   "metadata": {
    "ExecuteTime": {
     "end_time": "2025-02-23T14:30:55.266422Z",
     "start_time": "2025-02-23T14:30:55.258654Z"
    }
   },
   "cell_type": "code",
   "source": [
    "loss.backward()\n",
    "print(w.grad)\n",
    "print(b.grad)\n"
   ],
   "id": "7cb574daccaab3b2",
   "outputs": [
    {
     "name": "stdout",
     "output_type": "stream",
     "text": [
      "tensor([[0.2009, 0.2675, 0.0009],\n",
      "        [0.2009, 0.2675, 0.0009],\n",
      "        [0.2009, 0.2675, 0.0009],\n",
      "        [0.2009, 0.2675, 0.0009],\n",
      "        [0.2009, 0.2675, 0.0009]])\n",
      "tensor([0.2009, 0.2675, 0.0009])\n"
     ]
    }
   ],
   "execution_count": 6
  }
 ],
 "metadata": {
  "kernelspec": {
   "display_name": "Python 3",
   "language": "python",
   "name": "python3"
  },
  "language_info": {
   "codemirror_mode": {
    "name": "ipython",
    "version": 2
   },
   "file_extension": ".py",
   "mimetype": "text/x-python",
   "name": "python",
   "nbconvert_exporter": "python",
   "pygments_lexer": "ipython2",
   "version": "2.7.6"
  }
 },
 "nbformat": 4,
 "nbformat_minor": 5
}
