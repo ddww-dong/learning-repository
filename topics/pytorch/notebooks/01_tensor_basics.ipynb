{
 "cells": [
  {
   "metadata": {
    "ExecuteTime": {
     "end_time": "2025-02-17T14:17:08.775666Z",
     "start_time": "2025-02-17T14:17:08.770983Z"
    }
   },
   "cell_type": "code",
   "source": [
    "import torch\n",
    "import numpy as np"
   ],
   "id": "edaa9b518cb32079",
   "outputs": [],
   "execution_count": 2
  },
  {
   "metadata": {},
   "cell_type": "markdown",
   "source": "### 初始化张量",
   "id": "1a2b1340de0f06b2"
  },
  {
   "metadata": {},
   "cell_type": "markdown",
   "source": "#### 1.直接给出数据",
   "id": "9c3fdda08f840f47"
  },
  {
   "metadata": {
    "ExecuteTime": {
     "end_time": "2025-02-17T14:17:08.806977Z",
     "start_time": "2025-02-17T14:17:08.789889Z"
    }
   },
   "cell_type": "code",
   "source": [
    "data = [[1,2],[3,4]]\n",
    "x_data = torch.tensor(data)\n",
    "x_data"
   ],
   "id": "6155bdc46e0f963",
   "outputs": [
    {
     "data": {
      "text/plain": [
       "tensor([[1, 2],\n",
       "        [3, 4]])"
      ]
     },
     "execution_count": 3,
     "metadata": {},
     "output_type": "execute_result"
    }
   ],
   "execution_count": 3
  },
  {
   "metadata": {},
   "cell_type": "markdown",
   "source": "#### 2.与numpy数组互相转换",
   "id": "f0638eb328a37113"
  },
  {
   "metadata": {
    "ExecuteTime": {
     "end_time": "2025-02-17T14:17:08.851707Z",
     "start_time": "2025-02-17T14:17:08.843808Z"
    }
   },
   "cell_type": "code",
   "source": [
    "np_array = np.array(data)\n",
    "x_np = torch.from_numpy(np_array)\n",
    "x_np"
   ],
   "id": "60d82f3bab097ed",
   "outputs": [
    {
     "data": {
      "text/plain": [
       "tensor([[1, 2],\n",
       "        [3, 4]], dtype=torch.int32)"
      ]
     },
     "execution_count": 4,
     "metadata": {},
     "output_type": "execute_result"
    }
   ],
   "execution_count": 4
  },
  {
   "metadata": {},
   "cell_type": "markdown",
   "source": [
    "#### 3.来自另一个张量\n",
    "\n",
    "除非显式覆盖，否则新张量保留参数张量的属性（形状、数据类型）。"
   ],
   "id": "e6808b784148c700"
  },
  {
   "metadata": {
    "ExecuteTime": {
     "end_time": "2025-02-17T14:19:53.199766Z",
     "start_time": "2025-02-17T14:19:53.187551Z"
    }
   },
   "cell_type": "code",
   "source": [
    "x_ones = torch.ones_like(x_data)    #保留x_data的属性\n",
    "x_rand = torch.rand_like(x_data, dtype=float)    #覆盖x_data的属性\n",
    "x_ones,x_rand"
   ],
   "id": "7e19dec34b1c9028",
   "outputs": [
    {
     "data": {
      "text/plain": [
       "(tensor([[1, 1],\n",
       "         [1, 1]]),\n",
       " tensor([[0.1475, 0.8983],\n",
       "         [0.7593, 0.2849]], dtype=torch.float64))"
      ]
     },
     "execution_count": 8,
     "metadata": {},
     "output_type": "execute_result"
    }
   ],
   "execution_count": 8
  },
  {
   "metadata": {},
   "cell_type": "markdown",
   "source": "#### 4.使用随机值或常量值",
   "id": "681fa47289fffb96"
  },
  {
   "metadata": {
    "ExecuteTime": {
     "end_time": "2025-02-17T14:22:18.915471Z",
     "start_time": "2025-02-17T14:22:18.903697Z"
    }
   },
   "cell_type": "code",
   "source": [
    "shape = (2,3)  #张量的维度的元组\n",
    "rand_tensor = torch.rand(shape)\n",
    "ones_tensor = torch.ones(shape)\n",
    "zero_tensor = torch.zeros(shape)\n",
    "rand_tensor,ones_tensor,zero_tensor"
   ],
   "id": "fb55037b98cdd0c4",
   "outputs": [
    {
     "data": {
      "text/plain": [
       "(tensor([[0.0340, 0.0302, 0.9437],\n",
       "         [0.9154, 0.2082, 0.8739]]),\n",
       " tensor([[1., 1., 1.],\n",
       "         [1., 1., 1.]]),\n",
       " tensor([[0., 0., 0.],\n",
       "         [0., 0., 0.]]))"
      ]
     },
     "execution_count": 10,
     "metadata": {},
     "output_type": "execute_result"
    }
   ],
   "execution_count": 10
  },
  {
   "metadata": {},
   "cell_type": "markdown",
   "source": "### 张量的属性",
   "id": "9c88db5f751b9dba"
  },
  {
   "metadata": {},
   "cell_type": "markdown",
   "source": "#### 包括形状、数据类型以及存储它们的设备。",
   "id": "7179ec7b5ed7f72a"
  },
  {
   "metadata": {
    "ExecuteTime": {
     "end_time": "2025-02-17T14:23:50.375148Z",
     "start_time": "2025-02-17T14:23:50.369425Z"
    }
   },
   "cell_type": "code",
   "source": [
    "tensor = torch.rand(3,4)\n",
    "\n",
    "print(f\"张量形状/维度: {tensor.shape}\")\n",
    "print(f\"张量数据类型: {tensor.dtype}\")\n",
    "print(f\"存储设备: {tensor.device}\")"
   ],
   "id": "20e7620355844eeb",
   "outputs": [
    {
     "name": "stdout",
     "output_type": "stream",
     "text": [
      "张量形状/维度: torch.Size([3, 4])\n",
      "张量数据类型: torch.float32\n",
      "存储设备: cpu\n"
     ]
    }
   ],
   "execution_count": 11
  },
  {
   "metadata": {},
   "cell_type": "markdown",
   "source": "### 张量的运算",
   "id": "732317bc626cddc8"
  },
  {
   "metadata": {},
   "cell_type": "markdown",
   "source": "超过 1200 个张量运算，包括算术、线性代数、矩阵操作（转置、索引、切片）、采样等。默认情况下在cpu创建，如果需要可以转换到gpu或者加速器上运行，使用.to方法",
   "id": "df100d64b81b516c"
  },
  {
   "metadata": {
    "ExecuteTime": {
     "end_time": "2025-02-17T14:33:09.096638Z",
     "start_time": "2025-02-17T14:33:09.091125Z"
    }
   },
   "cell_type": "code",
   "source": [
    "device =torch.device(\"cuda\" if torch.cuda.is_available() else \"cpu\")\n",
    "tensor = tensor.to(device)\n",
    "device"
   ],
   "id": "634b3f194fc8018a",
   "outputs": [
    {
     "data": {
      "text/plain": [
       "device(type='cpu')"
      ]
     },
     "execution_count": 16,
     "metadata": {},
     "output_type": "execute_result"
    }
   ],
   "execution_count": 16
  },
  {
   "metadata": {},
   "cell_type": "markdown",
   "source": "类似于numpy的切片索引",
   "id": "8cf8094651bbc8f3"
  },
  {
   "metadata": {
    "ExecuteTime": {
     "end_time": "2025-02-17T14:36:35.520103Z",
     "start_time": "2025-02-17T14:36:35.512587Z"
    }
   },
   "cell_type": "code",
   "source": [
    "tensor = torch.tensor([[1., 2., 3., 4.],\n",
    "        [1., 1., 1., 1.],\n",
    "        [1., 1., 1., 1.],\n",
    "        [1., 1., 1., 1.]])\n",
    "print(tensor)\n",
    "print(f\"第一行: {tensor[0]}\")\n",
    "print(f\"第一列: {tensor[:, 0]}\")\n",
    "print(f\"最后一列: {tensor[..., -1]}\")"
   ],
   "id": "ee5af19e718742e8",
   "outputs": [
    {
     "name": "stdout",
     "output_type": "stream",
     "text": [
      "tensor([[1., 2., 3., 4.],\n",
      "        [1., 1., 1., 1.],\n",
      "        [1., 1., 1., 1.],\n",
      "        [1., 1., 1., 1.]])\n",
      "第一行: tensor([1., 2., 3., 4.])\n",
      "第一列: tensor([1., 1., 1., 1.])\n",
      "最后一列: tensor([4., 1., 1., 1.])\n"
     ]
    }
   ],
   "execution_count": 23
  },
  {
   "metadata": {},
   "cell_type": "markdown",
   "source": "按指定的维度连接张量",
   "id": "79ce73425e05c0c8"
  },
  {
   "metadata": {
    "ExecuteTime": {
     "end_time": "2025-02-17T14:37:15.686850Z",
     "start_time": "2025-02-17T14:37:15.678926Z"
    }
   },
   "cell_type": "code",
   "source": [
    "t1 = torch.cat([tensor, tensor, tensor], dim=0)\n",
    "print(t1)"
   ],
   "id": "bd456403752990e7",
   "outputs": [
    {
     "name": "stdout",
     "output_type": "stream",
     "text": [
      "tensor([[1., 2., 3., 4.],\n",
      "        [1., 1., 1., 1.],\n",
      "        [1., 1., 1., 1.],\n",
      "        [1., 1., 1., 1.],\n",
      "        [1., 2., 3., 4.],\n",
      "        [1., 1., 1., 1.],\n",
      "        [1., 1., 1., 1.],\n",
      "        [1., 1., 1., 1.],\n",
      "        [1., 2., 3., 4.],\n",
      "        [1., 1., 1., 1.],\n",
      "        [1., 1., 1., 1.],\n",
      "        [1., 1., 1., 1.]])\n"
     ]
    }
   ],
   "execution_count": 27
  },
  {
   "metadata": {},
   "cell_type": "markdown",
   "source": "张量乘法",
   "id": "f4b1576df00d0297"
  },
  {
   "metadata": {
    "ExecuteTime": {
     "end_time": "2025-02-17T14:39:48.035767Z",
     "start_time": "2025-02-17T14:39:48.025463Z"
    }
   },
   "cell_type": "code",
   "outputs": [
    {
     "data": {
      "text/plain": [
       "tensor([[ 1.,  4.,  9., 16.],\n",
       "        [ 1.,  1.,  1.,  1.],\n",
       "        [ 1.,  1.,  1.,  1.],\n",
       "        [ 1.,  1.,  1.,  1.]])"
      ]
     },
     "execution_count": 31,
     "metadata": {},
     "output_type": "execute_result"
    }
   ],
   "execution_count": 31,
   "source": [
    "y1 = tensor @ tensor.T  #张量与张量使用矩阵乘法\n",
    "y2 = tensor.matmul(tensor.T)\n",
    "\n",
    "y3 = torch.rand_like(y1)\n",
    "torch.matmul(tensor, tensor.T, out=y3)\n",
    "\n",
    "z1 = tensor * tensor  #张量对应位置相乘\n",
    "z2 = tensor.mul(tensor)\n",
    "\n",
    "z3 = torch.rand_like(tensor)\n",
    "torch.mul(tensor, tensor, out=z3)"
   ],
   "id": "b30f2756a4d4a902"
  },
  {
   "metadata": {},
   "cell_type": "markdown",
   "source": "单元素张量 使用item()将单元素张量转换成python数值",
   "id": "fe3b55a5d0b55c67"
  },
  {
   "metadata": {
    "ExecuteTime": {
     "end_time": "2025-02-17T14:45:26.668632Z",
     "start_time": "2025-02-17T14:45:26.662522Z"
    }
   },
   "cell_type": "code",
   "source": [
    "agg = tensor.sum()\n",
    "agg_item = agg.item()\n",
    "print(agg_item, type(agg_item))"
   ],
   "id": "15c380106e331b52",
   "outputs": [
    {
     "name": "stdout",
     "output_type": "stream",
     "text": [
      "22.0 <class 'float'>\n"
     ]
    }
   ],
   "execution_count": 35
  },
  {
   "metadata": {},
   "cell_type": "markdown",
   "source": "就地运算 将结果存储到操作数中的运算称为就地运算。它们用 _ 后缀表示。例如：x.copy_(y), x.t_() 将更改 x。",
   "id": "fe4f7d34e0bcf999"
  },
  {
   "metadata": {
    "ExecuteTime": {
     "end_time": "2025-02-17T14:46:13.492672Z",
     "start_time": "2025-02-17T14:46:13.479650Z"
    }
   },
   "cell_type": "code",
   "source": [
    "print(f\"{tensor} \\n\")\n",
    "tensor.add_(5)\n",
    "print(tensor)"
   ],
   "id": "818a2616b073b178",
   "outputs": [
    {
     "name": "stdout",
     "output_type": "stream",
     "text": [
      "tensor([[1., 2., 3., 4.],\n",
      "        [1., 1., 1., 1.],\n",
      "        [1., 1., 1., 1.],\n",
      "        [1., 1., 1., 1.]]) \n",
      "\n",
      "tensor([[6., 7., 8., 9.],\n",
      "        [6., 6., 6., 6.],\n",
      "        [6., 6., 6., 6.],\n",
      "        [6., 6., 6., 6.]])\n"
     ]
    }
   ],
   "execution_count": 36
  },
  {
   "metadata": {},
   "cell_type": "markdown",
   "source": [
    "### 与numpy的桥梁\n",
    "他们会共享底层空间，修改一个会改变另一个的值"
   ],
   "id": "b02009e25b0ed897"
  },
  {
   "metadata": {},
   "cell_type": "markdown",
   "source": "张量到numpy",
   "id": "51b3ef1f6f860a94"
  },
  {
   "metadata": {
    "ExecuteTime": {
     "end_time": "2025-02-17T14:50:53.983930Z",
     "start_time": "2025-02-17T14:50:53.977584Z"
    }
   },
   "cell_type": "code",
   "source": [
    "n = tensor.numpy()\n",
    "print(tensor)\n",
    "print(n)"
   ],
   "id": "32de2cff86946526",
   "outputs": [
    {
     "name": "stdout",
     "output_type": "stream",
     "text": [
      "tensor([[6., 7., 8., 9.],\n",
      "        [6., 6., 6., 6.],\n",
      "        [6., 6., 6., 6.],\n",
      "        [6., 6., 6., 6.]])\n",
      "[[6. 7. 8. 9.]\n",
      " [6. 6. 6. 6.]\n",
      " [6. 6. 6. 6.]\n",
      " [6. 6. 6. 6.]]\n"
     ]
    }
   ],
   "execution_count": 40
  },
  {
   "metadata": {},
   "cell_type": "markdown",
   "source": "修改张量时，numpy数组也会随之更改",
   "id": "ebbf7a8af809a2f5"
  },
  {
   "metadata": {
    "ExecuteTime": {
     "end_time": "2025-02-17T14:51:41.873079Z",
     "start_time": "2025-02-17T14:51:41.866712Z"
    }
   },
   "cell_type": "code",
   "source": [
    "tensor.add_(1)\n",
    "print(n)"
   ],
   "id": "8bfa50ee97ee49f1",
   "outputs": [
    {
     "name": "stdout",
     "output_type": "stream",
     "text": [
      "[[ 7.  8.  9. 10.]\n",
      " [ 7.  7.  7.  7.]\n",
      " [ 7.  7.  7.  7.]\n",
      " [ 7.  7.  7.  7.]]\n"
     ]
    }
   ],
   "execution_count": 41
  },
  {
   "metadata": {},
   "cell_type": "markdown",
   "source": "NumPy 数组到张量\n",
   "id": "191f85d9e40a316e"
  },
  {
   "metadata": {
    "ExecuteTime": {
     "end_time": "2025-02-17T14:52:13.761616Z",
     "start_time": "2025-02-17T14:52:13.756601Z"
    }
   },
   "cell_type": "code",
   "source": [
    "n = np.ones(5)\n",
    "t = torch.from_numpy(n)"
   ],
   "id": "4a3263c48550a8fa",
   "outputs": [],
   "execution_count": 42
  },
  {
   "metadata": {},
   "cell_type": "markdown",
   "source": "修改numpy数组时，张量也会随之更改",
   "id": "835944254292ea62"
  },
  {
   "metadata": {
    "ExecuteTime": {
     "end_time": "2025-02-17T14:53:04.741561Z",
     "start_time": "2025-02-17T14:53:04.733560Z"
    }
   },
   "cell_type": "code",
   "source": "np.add(n, 1, out=n)",
   "id": "333653289dbf2155",
   "outputs": [
    {
     "data": {
      "text/plain": [
       "array([2., 2., 2., 2., 2.])"
      ]
     },
     "execution_count": 43,
     "metadata": {},
     "output_type": "execute_result"
    }
   ],
   "execution_count": 43
  }
 ],
 "metadata": {
  "kernelspec": {
   "name": "python3",
   "language": "python",
   "display_name": "Python 3 (ipykernel)"
  }
 },
 "nbformat": 5,
 "nbformat_minor": 9
}
